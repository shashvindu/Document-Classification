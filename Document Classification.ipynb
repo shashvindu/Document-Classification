{
 "cells": [
  {
   "cell_type": "code",
   "execution_count": 1,
   "metadata": {},
   "outputs": [
    {
     "name": "stderr",
     "output_type": "stream",
     "text": [
      "[nltk_data] Downloading package stopwords to C:\\Users\\shashvindu\n",
      "[nltk_data]     jha\\AppData\\Roaming\\nltk_data...\n",
      "[nltk_data]   Package stopwords is already up-to-date!\n"
     ]
    },
    {
     "data": {
      "text/plain": [
       "True"
      ]
     },
     "execution_count": 1,
     "metadata": {},
     "output_type": "execute_result"
    }
   ],
   "source": [
    "# Text Classifiation using NLP\n",
    "\n",
    "# Importing the libraries\n",
    "import numpy as np\n",
    "import re\n",
    "import pickle \n",
    "import nltk\n",
    "from nltk.corpus import stopwords\n",
    "from sklearn.datasets import load_files\n",
    "nltk.download('stopwords')"
   ]
  },
  {
   "cell_type": "code",
   "execution_count": 2,
   "metadata": {},
   "outputs": [],
   "source": []
  },
  {
   "cell_type": "code",
   "execution_count": 3,
   "metadata": {},
   "outputs": [],
   "source": [
    "# Importing the dataset\n",
    "reviews = load_files('txt_sentoken')\n",
    "X,y = reviews.data,reviews.target"
   ]
  },
  {
   "cell_type": "code",
   "execution_count": 4,
   "metadata": {},
   "outputs": [],
   "source": [
    "# Pickling the dataset\n",
    "with open('X.pickle','wb') as f:\n",
    "    pickle.dump(X,f)\n",
    "    \n",
    "with open('y.pickle','wb') as f:\n",
    "    pickle.dump(y,f)\n",
    "\n"
   ]
  },
  {
   "cell_type": "code",
   "execution_count": 5,
   "metadata": {},
   "outputs": [],
   "source": [
    "# Unpickling dataset\n",
    "X_in = open('X.pickle','rb')\n",
    "y_in = open('y.pickle','rb')\n",
    "X = pickle.load(X_in)\n",
    "y = pickle.load(y_in)"
   ]
  },
  {
   "cell_type": "code",
   "execution_count": 6,
   "metadata": {},
   "outputs": [],
   "source": [
    "\n",
    "# Creating the corpus\n",
    "corpus = []\n",
    "for i in range(0, len(X)):\n",
    "    review = re.sub(r'\\W', ' ', str(X[i]))\n",
    "    review = review.lower()\n",
    "    review = re.sub(r'^br$', ' ', review)\n",
    "    review = re.sub(r'\\s+[a-z]\\s+', ' ',review)\n",
    "    review = re.sub(r'^[a-z]\\s+', '', review)\n",
    "    review = re.sub(r'\\s+', ' ', review)\n",
    "    corpus.append(review)    "
   ]
  },
  {
   "cell_type": "code",
   "execution_count": 7,
   "metadata": {},
   "outputs": [],
   "source": [
    "# Creating the BOW model\n",
    "from sklearn.feature_extraction.text import CountVectorizer\n",
    "vectorizer = CountVectorizer(max_features = 2000, min_df = 3, max_df = 0.6, stop_words = stopwords.words('english'))\n",
    "X = vectorizer.fit_transform(corpus).toarray()"
   ]
  },
  {
   "cell_type": "code",
   "execution_count": 8,
   "metadata": {},
   "outputs": [],
   "source": [
    "# Creating the Tf-Idf Model\n",
    "from sklearn.feature_extraction.text import TfidfTransformer\n",
    "transformer = TfidfTransformer()\n",
    "X = transformer.fit_transform(X).toarray()\n",
    "\n"
   ]
  },
  {
   "cell_type": "code",
   "execution_count": 9,
   "metadata": {},
   "outputs": [],
   "source": [
    "\n",
    "# Creating the Tf-Idf model directly\n",
    "from sklearn.feature_extraction.text import TfidfVectorizer\n",
    "vectorizer = TfidfVectorizer(max_features = 2000, min_df = 3, max_df = 0.6, stop_words = stopwords.words('english'))\n",
    "X = vectorizer.fit_transform(corpus).toarray()"
   ]
  },
  {
   "cell_type": "code",
   "execution_count": 10,
   "metadata": {},
   "outputs": [],
   "source": [
    "\n",
    "# Splitting the dataset into the Training set and Test set\n",
    "from sklearn.model_selection import train_test_split\n",
    "text_train, text_test, sent_train, sent_test = train_test_split(X, y, test_size = 0.20, random_state = 0)"
   ]
  },
  {
   "cell_type": "code",
   "execution_count": 11,
   "metadata": {},
   "outputs": [
    {
     "data": {
      "text/plain": [
       "LogisticRegression()"
      ]
     },
     "execution_count": 11,
     "metadata": {},
     "output_type": "execute_result"
    }
   ],
   "source": [
    "# Training the classifier\n",
    "from sklearn.linear_model import LogisticRegression\n",
    "classifier = LogisticRegression()\n",
    "classifier.fit(text_train,sent_train)"
   ]
  },
  {
   "cell_type": "code",
   "execution_count": 13,
   "metadata": {},
   "outputs": [
    {
     "name": "stdout",
     "output_type": "stream",
     "text": [
      "Fitting 5 folds for each of 30 candidates, totalling 150 fits\n"
     ]
    },
    {
     "name": "stderr",
     "output_type": "stream",
     "text": [
      "[Parallel(n_jobs=-1)]: Using backend LokyBackend with 4 concurrent workers.\n",
      "[Parallel(n_jobs=-1)]: Done  42 tasks      | elapsed: 13.4min\n",
      "[Parallel(n_jobs=-1)]: Done 150 out of 150 | elapsed: 44.3min finished\n"
     ]
    },
    {
     "data": {
      "text/plain": [
       "GridSearchCV(cv=5, estimator=AdaBoostClassifier(), n_jobs=-1,\n",
       "             param_grid={'learning_rate': [0.001, 0.01, 0.1, 1, 10, 100],\n",
       "                         'n_estimators': [100, 200, 400, 600, 800]},\n",
       "             verbose=True)"
      ]
     },
     "execution_count": 13,
     "metadata": {},
     "output_type": "execute_result"
    }
   ],
   "source": [
    "from sklearn.ensemble import AdaBoostClassifier, GradientBoostingClassifier\n",
    "pargrid_ada = {'n_estimators': [100, 200, 400, 600, 800],\n",
    "               'learning_rate': [10 ** x for x in range(-3, 3)]}\n",
    "#from sklearn.grid_search import GridSearchCV\n",
    "from sklearn.model_selection import learning_curve, GridSearchCV\n",
    "gscv_ada = GridSearchCV(estimator=AdaBoostClassifier(), \n",
    "                        param_grid=pargrid_ada, \n",
    "                        cv=5,\n",
    "                        verbose=True, n_jobs=-1)\n",
    "gscv_ada.fit(text_train, sent_train)"
   ]
  },
  {
   "cell_type": "code",
   "execution_count": null,
   "metadata": {},
   "outputs": [],
   "source": []
  },
  {
   "cell_type": "code",
   "execution_count": 14,
   "metadata": {},
   "outputs": [],
   "source": [
    "# Testing model performance\n",
    "sent_pred = classifier.predict(text_test)\n",
    "\n",
    "\n",
    "from sklearn.metrics import confusion_matrix\n",
    "cm = confusion_matrix(sent_test, sent_pred)"
   ]
  },
  {
   "cell_type": "code",
   "execution_count": 16,
   "metadata": {},
   "outputs": [
    {
     "data": {
      "text/plain": [
       "array([[168,  40],\n",
       "       [ 21, 171]], dtype=int64)"
      ]
     },
     "execution_count": 16,
     "metadata": {},
     "output_type": "execute_result"
    }
   ],
   "source": [
    "cm"
   ]
  },
  {
   "cell_type": "code",
   "execution_count": 15,
   "metadata": {},
   "outputs": [],
   "source": [
    "# Saving our classifier\n",
    "with open('classifier.pickle','wb') as f:\n",
    "    pickle.dump(classifier,f)\n",
    "    \n",
    "# Saving the Tf-Idf model\n",
    "with open('tfidfmodel.pickle','wb') as f:\n",
    "    pickle.dump(vectorizer,f)"
   ]
  },
  {
   "cell_type": "markdown",
   "metadata": {},
   "source": [
    "### USING THE MODELS"
   ]
  },
  {
   "cell_type": "code",
   "execution_count": 17,
   "metadata": {},
   "outputs": [],
   "source": [
    "# Using our classifier\n",
    "with open('tfidfmodel.pickle','rb') as f:\n",
    "    tfidf = pickle.load(f)\n",
    "    \n",
    "with open('classifier.pickle','rb') as f:\n",
    "    clf = pickle.load(f)\n",
    "    \n",
    "    \n",
    "sample = [\"You are a bad person man, have a good life\"]\n",
    "sample = tfidf.transform(sample).toarray()\n",
    "sentiment = clf.predict(sample)"
   ]
  },
  {
   "cell_type": "code",
   "execution_count": null,
   "metadata": {},
   "outputs": [],
   "source": [
    "sentiment"
   ]
  },
  {
   "cell_type": "markdown",
   "metadata": {},
   "source": [
    "### Twitter data scoring"
   ]
  },
  {
   "cell_type": "code",
   "execution_count": 19,
   "metadata": {},
   "outputs": [],
   "source": [
    "import tweepy\n",
    "import re\n",
    "import pickle\n",
    "\n",
    "from tweepy import OAuthHandler\n",
    "\n",
    "#Please change with your own consumer key, consumer secret, access token and access secret\n",
    "# Initializing the keys\n",
    "consumer_key = 'yoIwFkjZGYDa49aO16XqSNqcN'\n",
    "consumer_secret = 'gl4LQOItV7Z1aFwNrlvaiKJ3t8o8h99blMIAmnmdHxYjzjRAxO' \n",
    "access_token = '624310916-E7fDF2IE8P6bfY1oVFglASf6F8RnxMd3vgSXFqnZ'\n",
    "access_secret ='ID9JcoXHsDcKtvNcnmBGcCQhUlO0wmwAxBJ6LCesiUAas'"
   ]
  },
  {
   "cell_type": "code",
   "execution_count": 20,
   "metadata": {},
   "outputs": [],
   "source": [
    "# Initializing the tokens\n",
    "auth = OAuthHandler(consumer_key, consumer_secret)\n",
    "auth.set_access_token(access_token, access_secret)\n",
    "args = ['facebook'];\n",
    "api = tweepy.API(auth,timeout=10)\n"
   ]
  },
  {
   "cell_type": "code",
   "execution_count": 21,
   "metadata": {},
   "outputs": [],
   "source": [
    "# Fetching the tweets\n",
    "list_tweets = []\n",
    "\n",
    "query = args[0]\n",
    "if len(args) == 1:\n",
    "    for status in tweepy.Cursor(api.search,q=query+\" -filter:retweets\",lang='en',result_type='recent',geocode=\"22.1568,89.4332,500km\").items(100):\n",
    "        list_tweets.append(status.text)\n"
   ]
  },
  {
   "cell_type": "code",
   "execution_count": 22,
   "metadata": {},
   "outputs": [],
   "source": [
    "# Loading the vectorizer and classfier\n",
    "with open('classifier.pickle','rb') as f:\n",
    "    classifier = pickle.load(f)\n",
    "    \n",
    "with open('tfidfmodel.pickle','rb') as f:\n",
    "    tfidf = pickle.load(f)    \n"
   ]
  },
  {
   "cell_type": "code",
   "execution_count": 23,
   "metadata": {},
   "outputs": [],
   "source": [
    "total_pos = 0\n",
    "total_neg = 0"
   ]
  },
  {
   "cell_type": "code",
   "execution_count": 24,
   "metadata": {},
   "outputs": [
    {
     "name": "stdout",
     "output_type": "stream",
     "text": [
      "which do you choose  : [1]\n",
      "which do you choose  : [1]\n",
      " facebook can you fucking stand for year without violating our privacy just one year facebook privacy  : [1]\n",
      "stanley kubrick stanley kubrick singular war saga full metal jacket available for  : [1]\n",
      "beautiful message make sure that no one around you feels left out  : [1]\n",
      "hello there are you looking for social media manager if you need to manage your social media please visit me  : [1]\n",
      "save our dream support just go via facebookwatch : [1]\n",
      "save our dream support just go via facebookwatch  : [1]\n",
      " hate the dumbass ppl on my facebook they legit ask the dumbest questions in history what grocery store  : [1]\n",
      "riots in bangalore over facebook post looks like people have people completely forgotten about the pandemic  : [0]\n",
      "click the link for any social media cover or banner designer facebook_cover  : [1]\n",
      " ecelliitg google reliancejio facebook intel qualcomm mukeshambanima sundarpichai earn from your hobby yes  : [1]\n",
      "enter to amazon gift card amp best to luck to everybody giveaway twitch vrlatech  : [1]\n",
      "hi am graphic designer am working in an online market place your satisfaction is my success can do  : [1]\n",
      "what am programmer what am not facebook hacker printer wisperer laptop repair spreadsheet wizard  : [1]\n",
      "we raise voice against riddhochaudhuri and appeal to government to arrest him immediately these are facebook pos  : [1]\n",
      "grow up your business with graphics designer check out the link banner_ads  : [1]\n",
      "need graphics designer with professional banner design just hit the link https co krawawt bb  : [1]\n",
      " facebook_camping facebook_business_page optimisation_social_media_ page  : [1]\n",
      " respect women : [0]\n",
      " facebook_camping facebook_business_page optimisation_social_media_ page  : [1]\n",
      " sanjukta every year jogomaya niye hyaj name bengali facebook like every year  : [0]\n",
      " tubebuddy facebook : [1]\n",
      "facebook closing s election ad loophole via susanedub  : [1]\n",
      "tuchel plan neymar and insallah plan mbappe and insallah like having two offers from google and facebook ucl psgatalanta : [0]\n",
      "do you need social ad post design feel free to inbox me social postdesign facebookposts facebook  : [1]\n",
      " pubgmobile lost my account because my facebook id was disabled but also linked my account with gmail but  : [1]\n",
      " katyperry facebook are you looking for architectural design autocad d model design sketchup exper  : [1]\n",
      " facebook my personal account was disabled don know how didn follow community standards used other last  : [1]\n",
      "all world leading social media apps twitter facebook whatsapp instagram google gmail wikipedia many more are  : [1]\n",
      " dailyittefaq not facebook its usa : [1]\n",
      " fiverr check out my gig on fiverr will setup wordpress plugin for you check this link gt gt gt  : [1]\n",
      " exolalliancebd weareoneexo facebook obsession mparty weareoneexo : [1]\n",
      "check out my gig on fiverr create design optimize your facebook business or fan page  : [1]\n",
      " itsmeabir found this in facebook memory as jrdbtroll  : [1]\n",
      "today throwbackthursday quote is from beverly sills may july you can follow facebook  : [1]\n",
      "also please note all the posts will be individually posted on our instagram twitter and facebook profiles  : [1]\n",
      "five images taken by the hirise camera for details amp credit given  : [1]\n",
      " fiverr check out my gig on fiverr will create and setup your facebook business page chick this link gt gt gt  : [1]\n",
      " hislordshipb biolaaliy are you looking for graphics designer you can hire me graphicsdesign adsdesign  : [1]\n",
      " championsleague are you looking for graphics designer you can hire me graphicsdesign adsdesign bannerdesign  : [1]\n",
      " whitehouse are you looking for graphics designer you can hire me graphicsdesign adsdesign bannerdesign  : [1]\n",
      " abc are you looking for graphics designer you can hire me graphicsdesign adsdesign bannerdesign  : [1]\n",
      " championsleague are you looking for graphics designer you can hire me graphicsdesign adsdesign bannerdesign  : [1]\n",
      " pakpmo usmanmahar are you looking for graphics designer you can hire me graphicsdesign adsdesign  : [1]\n",
      " facebook please introduce dislike option in facebookapp amp instagram please  : [0]\n",
      " cnni are you looking for graphics designer you can hire me graphicsdesign adsdesign bannerdesign  : [1]\n",
      "check out my gig on fiverr setup high converting facebookads campaign  : [1]\n",
      " cmofficeassam assampolice dgpassampolice please take strict legal action against this fake news by news portal  : [0]\n",
      " fediasmile mxdwomen katyperry facebook shes extremely famous there : [1]\n",
      "hey do you need cartoon portrait from your photo if you need click my link am work fiverr  : [0]\n",
      " am trying to login instagram on my new phone samsung galaxy note lite whenever try to login abhi_chauhan_  : [0]\n",
      "this artist rendering shows osiris rex spacecraft descending towards asteroid bennu to collect sample of the as  : [1]\n",
      "the more you stay away although you can not completely shut it down from google youtube facebook instagram the better your life will be  : [1]\n",
      "looking for creative professional twitter facebook linkedin youtube instagram social media post design then  : [1]\n",
      "hey will do unique facebookcover twittercover amp banner design if you want any cover or banner click this lin  : [1]\n",
      "not done facebook this is way to influence elections as well isn it facebook removes qanon conspiracy group  : [1]\n",
      "facebook page cover video and slide video create good impression about your business if need support  : [0]\n",
      "the college of fisheries in raha will play an important role in making atmanirbharassam here my speech after at  : [1]\n",
      "just for facebook post people assembled and taking part in riot and did horrendous crime did they have sense  : [1]\n",
      "check out my gig on fiverr will setup your facebook business page ads campaign and marketing  : [1]\n",
      " katyperry facebook simply outstanding : [1]\n",
      "check out my gig on fiverr will setup your facebook advertising and social ads campaign https co surzz kvv  : [1]\n",
      "pm shri narendramodi will launch the platform for transparent taxation honoring the honest at am on august  : [1]\n",
      "check out my gig on fiverr days of social media post manager and content designer https co ggyjakoznm  : [1]\n",
      "pm shri narendra modi will launch the platform for transparent taxation honoring the honest at am on august  : [1]\n",
      " neha boutiquee  : [1]\n",
      " miss the dislike button on facebook : [1]\n",
      " don get likes on my facebook profile pic anymore sad tbh : [0]\n",
      " chandan raj bjp chapra rajivprataprudy rakeshsinghbjp narendramodi nitishkumar rajnathsingh sushilmodi  : [1]\n",
      "oc slapped asi police baton charge the human chain demanding sifat release the video has gone viral on facebook  : [0]\n",
      " mafiyaakkian raviyad akky_kuntal ipradeepta facebook pe no enjoy : [1]\n",
      "hon pm shri narendramodi ji will launch the platform for transparent taxation honoring the honest at am on  : [1]\n",
      "facebook is worth lakh thousand crore rupees or indian youths rough notebook ki tarah use karta hai isko  : [1]\n",
      "pm shri narendramodi will launch the platform for transparent taxation honoring the honest at am on august  : [1]\n",
      "thanks for following me on twitter check out my facebook page to see what am up to  : [1]\n",
      " ismaildenm are you looking for someone to help you to promote your youtube spotify sound cloud video seo page instagram facebook etc  : [0]\n",
      " weadoreyoulive are you looking for someone to help you to promote your youtube spotify sound cloud video seo page instagram facebook etc  : [0]\n",
      " mortalgod are you looking for someone to help you to promote your youtube spotify sound cloud video seo page instagram facebook etc  : [0]\n",
      " signofline hi can give you facebook likes facebook followers twitter likes twitter followers instagram likes ins  : [1]\n",
      " livxngproof hi can give you facebook likes facebook followers twitter likes twitter followers instagram likes in  : [1]\n",
      " lavenciaga hi can give you facebook likes facebook followers twitter likes twitter followers instagram likes ins  : [1]\n",
      " bts_twt hi can give you facebook likes facebook followers twitter likes twitter followers instagram likes instag  : [1]\n",
      "hi can give you facebook likes facebook followers twitter likes twitter followers instagram likes instagram followers you tube subscriber : [1]\n",
      " raviyad akky_kuntal ipradeepta mafiyaakkian facebook atul : [1]\n",
      " don know why some people become sudden contractor of any religion and instigate riot don know about what  : [1]\n",
      "don miss the webinar on the th of august celebrating the th anniversary of the declaration of naga independen  : [1]\n",
      "hi just plugging the other social media for my art here so you can find me easier instagram  : [1]\n",
      "check out my gig on fiverr will do your facebook promote in usa  : [1]\n",
      "check out my gig on fiverr will do create your facebook business page  : [1]\n",
      " hemantsorenjmm dipikaps sir communalism is spreading in dumka and it is spreading just as fast as corona right  : [1]\n",
      "catch the heart throb and super star afran nisho tomorrow live on dailystar_bd the daily star facebook page at  : [0]\n",
      "tune into asconnadiconversations asianconfluence facebook live tomorrow at pm webinar water  : [0]\n",
      "xerochat ecommerce in messenger chatbot will work day and night as your loyal salesperson get xerochat  : [1]\n",
      "new zeland gave tribute to itsssr because they know to respect the talents but some people like sanjayraut don  : [1]\n",
      " have seen this article for lots of time but didn get any solutions  : [1]\n",
      " _sabanaqvi but by ur jehadi comm krishna ram devi durga maa kali can be insulted by facebook post but prophet  : [0]\n",
      "my facebook page  : [1]\n",
      "tbh if your faith is endangered by facebook post it should not even exist  : [0]\n",
      " republic ishkarnbhandari iujjawaltrivedi sunilbnjha swamy plz check this very very important points reveale  : [1]\n"
     ]
    }
   ],
   "source": [
    "# Preprocessing the tweets\n",
    "for tweet in list_tweets:\n",
    "    tweet = re.sub(r\"^https://t.co/[a-zA-Z0-9]*\\s\", \" \", tweet)\n",
    "    tweet = re.sub(r\"\\s+https://t.co/[a-zA-Z0-9]*\\s\", \" \", tweet)\n",
    "    tweet = re.sub(r\"\\s+https://t.co/[a-zA-Z0-9]*$\", \" \", tweet)\n",
    "    tweet = tweet.lower()\n",
    "    tweet = re.sub(r\"that's\",\"that is\",tweet)\n",
    "    tweet = re.sub(r\"there's\",\"there is\",tweet)\n",
    "    tweet = re.sub(r\"what's\",\"what is\",tweet)\n",
    "    tweet = re.sub(r\"where's\",\"where is\",tweet)\n",
    "    tweet = re.sub(r\"it's\",\"it is\",tweet)\n",
    "    tweet = re.sub(r\"who's\",\"who is\",tweet)\n",
    "    tweet = re.sub(r\"i'm\",\"i am\",tweet)\n",
    "    tweet = re.sub(r\"she's\",\"she is\",tweet)\n",
    "    tweet = re.sub(r\"he's\",\"he is\",tweet)\n",
    "    tweet = re.sub(r\"they're\",\"they are\",tweet)\n",
    "    tweet = re.sub(r\"who're\",\"who are\",tweet)\n",
    "    tweet = re.sub(r\"ain't\",\"am not\",tweet)\n",
    "    tweet = re.sub(r\"wouldn't\",\"would not\",tweet)\n",
    "    tweet = re.sub(r\"shouldn't\",\"should not\",tweet)\n",
    "    tweet = re.sub(r\"can't\",\"can not\",tweet)\n",
    "    tweet = re.sub(r\"couldn't\",\"could not\",tweet)\n",
    "    tweet = re.sub(r\"won't\",\"will not\",tweet)\n",
    "    tweet = re.sub(r\"\\W\",\" \",tweet)\n",
    "    tweet = re.sub(r\"\\d\",\" \",tweet)\n",
    "    tweet = re.sub(r\"\\s+[a-z]\\s+\",\" \",tweet)\n",
    "    tweet = re.sub(r\"\\s+[a-z]$\",\" \",tweet)\n",
    "    tweet = re.sub(r\"^[a-z]\\s+\",\" \",tweet)\n",
    "    tweet = re.sub(r\"\\s+\",\" \",tweet)\n",
    "    sent = classifier.predict(tfidf.transform([tweet]).toarray())\n",
    "    print(tweet,\":\",sent)\n",
    "    if sent[0] == 1:\n",
    "        total_pos += 1\n",
    "    else:\n",
    "        total_neg += 1\n"
   ]
  },
  {
   "cell_type": "code",
   "execution_count": 25,
   "metadata": {},
   "outputs": [
    {
     "data": {
      "image/png": "[encoded data removed]",
      "text/plain": [
       "<Figure size 432x288 with 1 Axes>"
      ]
     },
     "metadata": {
      "needs_background": "light"
     },
     "output_type": "display_data"
    }
   ],
   "source": [
    "# Visualizing the results\n",
    "import matplotlib.pyplot as plt\n",
    "import numpy as np\n",
    "objects = ['Positive','Negative']\n",
    "y_pos = np.arange(len(objects))\n",
    "\n",
    "plt.bar(y_pos,[total_pos,total_neg],alpha=0.5)\n",
    "plt.xticks(y_pos,objects)\n",
    "plt.ylabel('Number')\n",
    "plt.title('Number of Postive and NEgative Tweets')\n",
    "\n",
    "plt.show()\n"
   ]
  },
  {
   "cell_type": "code",
   "execution_count": null,
   "metadata": {},
   "outputs": [],
   "source": []
  }
 ],
 "metadata": {
  "kernelspec": {
   "display_name": "Python 3",
   "language": "python",
   "name": "python3"
  },
  "language_info": {
   "codemirror_mode": {
    "name": "ipython",
    "version": 3
   },
   "file_extension": ".py",
   "mimetype": "text/x-python",
   "name": "python",
   "nbconvert_exporter": "python",
   "pygments_lexer": "ipython3",
   "version": "3.7.6"
  }
 },
 "nbformat": 4,
 "nbformat_minor": 2
}
